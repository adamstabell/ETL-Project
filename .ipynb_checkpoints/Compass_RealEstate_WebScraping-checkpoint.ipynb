{
 "cells": [
  {
   "cell_type": "code",
   "execution_count": 13,
   "metadata": {},
   "outputs": [],
   "source": [
    "import requests\n",
    "import pandas as pd\n",
    "from bs4 import BeautifulSoup as bs\n",
    "import time\n",
    "import random\n",
    "import sqlalchemy"
   ]
  },
  {
   "cell_type": "code",
   "execution_count": 3,
   "metadata": {},
   "outputs": [],
   "source": [
    "city = 'irvine'\n",
    "state = 'ca'\n",
    "url = f'https://www.compass.com/homes-for-sale/{(city)}-{(state)}/'\n",
    "page = requests.get(url)\n",
    "soup = bs(page.content, 'html.parser')"
   ]
  },
  {
   "cell_type": "code",
   "execution_count": 87,
   "metadata": {},
   "outputs": [
    {
     "data": {
      "text/plain": [
       "34"
      ]
     },
     "execution_count": 87,
     "metadata": {},
     "output_type": "execute_result"
    }
   ],
   "source": [
    "times = [4,5,6,7,]\n",
    "police_df = pd.read_csv('Data/police_df.csv')\n",
    "soup_bowl = []\n",
    "state = 'CA'\n",
    "for city in police_df['City']:\n",
    "    city_clean = city.replace(' ','-')\n",
    "    url = f'https://www.compass.com/homes-for-sale/{city_clean.lower()}-{state.lower()}/'\n",
    "    page = requests.get(url)\n",
    "    soup = bs(page.content, 'html.parser')\n",
    "    soup_bowl.append(soup)\n",
    "    time.sleep(random.choice(times))\n",
    "len(soup_bowl)"
   ]
  },
  {
   "cell_type": "code",
   "execution_count": 88,
   "metadata": {},
   "outputs": [],
   "source": [
    "price_list = []\n",
    "for soup in soup_bowl:\n",
    "    prices = soup.find_all('div', class_='uc-listingCard-mainStats')\n",
    "    for price in prices:\n",
    "        clean_price = price.text.replace('$','')\n",
    "        clean_price = clean_price.replace(',','')\n",
    "        price_list.append(int(clean_price))"
   ]
  },
  {
   "cell_type": "code",
   "execution_count": 90,
   "metadata": {},
   "outputs": [],
   "source": [
    "#They placed a div tag inside a div tag for some unknown reason. Calling the 'text' method\n",
    "#does not separate the number of beds from the word 'beds' with a space. This is my work around.\n",
    "\n",
    "bed_list = []\n",
    "bath_list = []\n",
    "sqft_list = []\n",
    "for soup in soup_bowl:\n",
    "    beds = soup.find_all('div', class_='uc-listingCard-subStat uc-listingCard-subStat--beds')\n",
    "    baths = soup.find_all('div', class_='uc-listingCard-subStat uc-listingCard-subStat--baths')\n",
    "    sqfts = soup.find_all('div', class_='uc-listingCard-subStat uc-listingCard-subStat--sqFt')\n",
    "\n",
    "    for i in range(len(beds)):\n",
    "        bed_list.append(str(beds[i]).split('<')[1].split('>')[1])\n",
    "        bath_list.append(str(baths[i]).split('<')[1].split('>')[1])\n",
    "        sqft = str(sqfts[i]).split('<')[1].split('>')[1]\n",
    "        if ',' in sqft:\n",
    "            sqft_list.append(float(sqft.replace(',', '')))\n",
    "        else:\n",
    "            sqft_list.append(str(sqft))"
   ]
  },
  {
   "cell_type": "code",
   "execution_count": 104,
   "metadata": {},
   "outputs": [],
   "source": [
    "cities = []\n",
    "streets = []\n",
    "zipcodes = []\n",
    "for i,soup in enumerate(soup_bowl):\n",
    "    addresses = soup.find_all('h2', class_='uc-listingCard-title truncate-overflow-text')\n",
    "    for address in addresses:\n",
    "        city = police_df['City'][i]\n",
    "        street = str(address).split('target=\"_blank\">')[1].split('</a>')[0]\n",
    "        zipcode = str(address).split(', CA ')[1].split('</h2>')[0]\n",
    "        cities.append(city)\n",
    "        streets.append(street)\n",
    "        zipcodes.append(zipcode)\n"
   ]
  },
  {
   "cell_type": "code",
   "execution_count": 105,
   "metadata": {},
   "outputs": [],
   "source": [
    "Listings = pd.DataFrame({\n",
    "    'Street':streets,    \n",
    "    'City':cities,\n",
    "    'Zipcode':zipcodes,\n",
    "    'Listing Price ($)':price_list,\n",
    "    'Number of Beds':bed_list,\n",
    "    'Number of Baths':bath_list,\n",
    "    'Square Footage': sqft_list\n",
    "})\n",
    "\n",
    "Listings['House ID'] = [i for i in range(len(Listings))]\n",
    "Listings = Listings.set_index('House ID')"
   ]
  },
  {
   "cell_type": "code",
   "execution_count": 197,
   "metadata": {},
   "outputs": [],
   "source": [
    "Clean_Listings = pd.DataFrame([])\n",
    "for i in range(len(Listings)):\n",
    "    try:\n",
    "        float(Listings[Listings.index == i]['Number of Baths'][i])\n",
    "        float(Listings[Listings.index == i]['Number of Beds'][i])\n",
    "        float(Listings[Listings.index == i]['Listing Price ($)'][i])\n",
    "        Clean_Listings = Clean_Listings.append(Listings[Listings.index == i])\n",
    "    except:\n",
    "        continue\n",
    "        \n",
    "Clean_Listings['House ID'] = [i for i in range(len(Clean_Listings))]\n",
    "Clean_Listings = Clean_Listings.set_index('House ID')"
   ]
  },
  {
   "cell_type": "code",
   "execution_count": 199,
   "metadata": {},
   "outputs": [],
   "source": [
    "Clean_Listings.to_csv('Data/Home_Listings.csv')"
   ]
  },
  {
   "cell_type": "code",
   "execution_count": 6,
   "metadata": {},
   "outputs": [],
   "source": [
    "Property_Price = Clean_Listings[['House ID','Listing Price ($)']]\n",
    "Property_Amenities = Clean_Listings[['House ID','Number of Beds','Number of Baths','Square Footage']]\n",
    "Property_Address = Clean_Listings[['House ID','Street','City','Zipcode']]"
   ]
  },
  {
   "cell_type": "code",
   "execution_count": 7,
   "metadata": {},
   "outputs": [],
   "source": [
    "Property_Price.columns = ['House_ID','Price']\n",
    "Property_Address.columns = ['House_ID','Street','City','Zipcode']\n",
    "Property_Amenities.columns = ['House_ID','Number_of_Beds','Number_of_Baths','Square_Footage']"
   ]
  },
  {
   "cell_type": "code",
   "execution_count": 12,
   "metadata": {},
   "outputs": [],
   "source": [
    "Property_Price = Property_Price.set_index('House_ID')\n",
    "Property_Address = Property_Address.set_index('House_ID')\n",
    "Property_Amenities = Property_Amenities.set_index('House_ID')"
   ]
  },
  {
   "cell_type": "code",
   "execution_count": 2,
   "metadata": {},
   "outputs": [],
   "source": [
    "import sqlalchemy\n",
    "from sqlalchemy.ext.automap import automap_base\n",
    "from sqlalchemy.orm import Session\n",
    "from sqlalchemy import create_engine"
   ]
  },
  {
   "cell_type": "code",
   "execution_count": 3,
   "metadata": {},
   "outputs": [],
   "source": [
    "# Create engine using the `demographics.sqlite` database file\n",
    "engine = create_engine(\"sqlite:///SQL_db/SQLiteDBPostgre.db\")"
   ]
  },
  {
   "cell_type": "code",
   "execution_count": 4,
   "metadata": {},
   "outputs": [],
   "source": [
    "# Declare a Base using `automap_base()`\n",
    "Base = automap_base()"
   ]
  },
  {
   "cell_type": "code",
   "execution_count": 5,
   "metadata": {},
   "outputs": [],
   "source": [
    "# Use the Base class to reflect the database tables\n",
    "Base.prepare(engine, reflect=True)"
   ]
  },
  {
   "cell_type": "code",
   "execution_count": 7,
   "metadata": {},
   "outputs": [
    {
     "ename": "AttributeError",
     "evalue": "type object 'Property_Address' has no attribute 'columns'",
     "output_type": "error",
     "traceback": [
      "\u001b[1;31m---------------------------------------------------------------------------\u001b[0m",
      "\u001b[1;31mAttributeError\u001b[0m                            Traceback (most recent call last)",
      "\u001b[1;32m<ipython-input-7-b999ca79cea0>\u001b[0m in \u001b[0;36m<module>\u001b[1;34m\u001b[0m\n\u001b[0;32m      1\u001b[0m \u001b[1;31m# Print all of the classes mapped to the Base\u001b[0m\u001b[1;33m\u001b[0m\u001b[1;33m\u001b[0m\u001b[1;33m\u001b[0m\u001b[0m\n\u001b[1;32m----> 2\u001b[1;33m \u001b[0mBase\u001b[0m\u001b[1;33m.\u001b[0m\u001b[0mclasses\u001b[0m\u001b[1;33m.\u001b[0m\u001b[0mProperty_Address\u001b[0m\u001b[1;33m.\u001b[0m\u001b[0mcolumns\u001b[0m\u001b[1;33m\u001b[0m\u001b[1;33m\u001b[0m\u001b[0m\n\u001b[0m",
      "\u001b[1;31mAttributeError\u001b[0m: type object 'Property_Address' has no attribute 'columns'"
     ]
    }
   ],
   "source": [
    "# Print all of the classes mapped to the Base\n",
    "Base.classes.Property_Address."
   ]
  },
  {
   "cell_type": "code",
   "execution_count": null,
   "metadata": {},
   "outputs": [],
   "source": []
  }
 ],
 "metadata": {
  "kernelspec": {
   "display_name": "Python 3",
   "language": "python",
   "name": "python3"
  },
  "language_info": {
   "codemirror_mode": {
    "name": "ipython",
    "version": 3
   },
   "file_extension": ".py",
   "mimetype": "text/x-python",
   "name": "python",
   "nbconvert_exporter": "python",
   "pygments_lexer": "ipython3",
   "version": "3.8.5"
  }
 },
 "nbformat": 4,
 "nbformat_minor": 4
}
