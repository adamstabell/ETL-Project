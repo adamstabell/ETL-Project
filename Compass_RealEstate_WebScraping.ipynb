{
 "cells": [
  {
   "cell_type": "code",
   "execution_count": 53,
   "metadata": {},
   "outputs": [],
   "source": [
    "import requests\n",
    "import pandas as pd\n",
    "from bs4 import BeautifulSoup as bs\n",
    "import time\n",
    "import random"
   ]
  },
  {
   "cell_type": "code",
   "execution_count": 3,
   "metadata": {},
   "outputs": [],
   "source": [
    "city = 'irvine'\n",
    "state = 'ca'\n",
    "url = f'https://www.compass.com/homes-for-sale/{(city)}-{(state)}/'\n",
    "page = requests.get(url)\n",
    "soup = bs(page.content, 'html.parser')"
   ]
  },
  {
   "cell_type": "code",
   "execution_count": 87,
   "metadata": {},
   "outputs": [
    {
     "data": {
      "text/plain": [
       "34"
      ]
     },
     "execution_count": 87,
     "metadata": {},
     "output_type": "execute_result"
    }
   ],
   "source": [
    "times = [4,5,6,7,]\n",
    "police_df = pd.read_csv('Data/police_df.csv')\n",
    "soup_bowl = []\n",
    "state = 'CA'\n",
    "for city in police_df['City']:\n",
    "    city_clean = city.replace(' ','-')\n",
    "    url = f'https://www.compass.com/homes-for-sale/{city_clean.lower()}-{state.lower()}/'\n",
    "    page = requests.get(url)\n",
    "    soup = bs(page.content, 'html.parser')\n",
    "    soup_bowl.append(soup)\n",
    "    time.sleep(random.choice(times))\n",
    "len(soup_bowl)"
   ]
  },
  {
   "cell_type": "code",
   "execution_count": 88,
   "metadata": {},
   "outputs": [],
   "source": [
    "price_list = []\n",
    "for soup in soup_bowl:\n",
    "    prices = soup.find_all('div', class_='uc-listingCard-mainStats')\n",
    "    for price in prices:\n",
    "        clean_price = price.text.replace('$','')\n",
    "        clean_price = clean_price.replace(',','')\n",
    "        price_list.append(int(clean_price))"
   ]
  },
  {
   "cell_type": "code",
   "execution_count": 90,
   "metadata": {},
   "outputs": [],
   "source": [
    "#They placed a div tag inside a div tag for some unknown reason. Calling the 'text' method\n",
    "#does not separate the number of beds from the word 'beds' with a space. This is my work around.\n",
    "\n",
    "bed_list = []\n",
    "bath_list = []\n",
    "sqft_list = []\n",
    "for soup in soup_bowl:\n",
    "    beds = soup.find_all('div', class_='uc-listingCard-subStat uc-listingCard-subStat--beds')\n",
    "    baths = soup.find_all('div', class_='uc-listingCard-subStat uc-listingCard-subStat--baths')\n",
    "    sqfts = soup.find_all('div', class_='uc-listingCard-subStat uc-listingCard-subStat--sqFt')\n",
    "\n",
    "    for i in range(len(beds)):\n",
    "        bed_list.append(str(beds[i]).split('<')[1].split('>')[1])\n",
    "        bath_list.append(str(baths[i]).split('<')[1].split('>')[1])\n",
    "        sqft = str(sqfts[i]).split('<')[1].split('>')[1]\n",
    "        if ',' in sqft:\n",
    "            sqft_list.append(float(sqft.replace(',', '')))\n",
    "        else:\n",
    "            sqft_list.append(str(sqft))"
   ]
  },
  {
   "cell_type": "code",
   "execution_count": 104,
   "metadata": {},
   "outputs": [],
   "source": [
    "cities = []\n",
    "streets = []\n",
    "zipcodes = []\n",
    "for i,soup in enumerate(soup_bowl):\n",
    "    addresses = soup.find_all('h2', class_='uc-listingCard-title truncate-overflow-text')\n",
    "    for address in addresses:\n",
    "        city = police_df['City'][i]\n",
    "        street = str(address).split('target=\"_blank\">')[1].split('</a>')[0]\n",
    "        zipcode = str(address).split(', CA ')[1].split('</h2>')[0]\n",
    "        cities.append(city)\n",
    "        streets.append(street)\n",
    "        zipcodes.append(zipcode)\n"
   ]
  },
  {
   "cell_type": "code",
   "execution_count": 105,
   "metadata": {},
   "outputs": [],
   "source": [
    "Listings = pd.DataFrame({\n",
    "    'Street':streets,    \n",
    "    'City':cities,\n",
    "    'Zipcode':zipcodes,\n",
    "    'Listing Price ($)':price_list,\n",
    "    'Number of Beds':bed_list,\n",
    "    'Number of Baths':bath_list,\n",
    "    'Square Footage': sqft_list\n",
    "})\n",
    "\n",
    "Listings['House ID'] = [i for i in range(len(Listings))]\n",
    "Listings = Listings.set_index('House ID')"
   ]
  },
  {
   "cell_type": "code",
   "execution_count": 197,
   "metadata": {},
   "outputs": [],
   "source": [
    "Clean_Listings = pd.DataFrame([])\n",
    "for i in range(len(Listings)):\n",
    "    try:\n",
    "        float(Listings[Listings.index == i]['Number of Baths'][i])\n",
    "        float(Listings[Listings.index == i]['Number of Beds'][i])\n",
    "        float(Listings[Listings.index == i]['Listing Price ($)'][i])\n",
    "        Clean_Listings = Clean_Listings.append(Listings[Listings.index == i])\n",
    "    except:\n",
    "        continue\n",
    "        \n",
    "Clean_Listings['House ID'] = [i for i in range(len(Clean_Listings))]\n",
    "Clean_Listings = Clean_Listings.set_index('House ID')"
   ]
  },
  {
   "cell_type": "code",
   "execution_count": 199,
   "metadata": {},
   "outputs": [],
   "source": [
    "Clean_Listings.to_csv('Data/Home_Listings.csv')"
   ]
  },
  {
   "cell_type": "code",
   "execution_count": null,
   "metadata": {},
   "outputs": [],
   "source": []
  }
 ],
 "metadata": {
  "kernelspec": {
   "display_name": "Python 3",
   "language": "python",
   "name": "python3"
  },
  "language_info": {
   "codemirror_mode": {
    "name": "ipython",
    "version": 3
   },
   "file_extension": ".py",
   "mimetype": "text/x-python",
   "name": "python",
   "nbconvert_exporter": "python",
   "pygments_lexer": "ipython3",
   "version": "3.8.5"
  }
 },
 "nbformat": 4,
 "nbformat_minor": 4
}
